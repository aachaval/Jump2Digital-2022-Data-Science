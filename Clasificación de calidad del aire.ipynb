{
 "cells": [
  {
   "cell_type": "markdown",
   "id": "f87f059f",
   "metadata": {},
   "source": [
    "## Clasificación de la calidad del aire: Random Forest Classifier"
   ]
  },
  {
   "cell_type": "markdown",
   "id": "92ce168b",
   "metadata": {},
   "source": [
    "Para resolver el caso empezamos importando las librerías de pyhton necesarias para el tratamiento de los datos:"
   ]
  },
  {
   "cell_type": "code",
   "execution_count": 1,
   "id": "da333b2f",
   "metadata": {},
   "outputs": [],
   "source": [
    "import pandas as pd\n",
    "import numpy as np\n",
    "import matplotlib.pyplot as plt\n",
    "import seaborn as sns\n",
    "plt.style.use('fivethirtyeight')"
   ]
  },
  {
   "cell_type": "markdown",
   "id": "8709fb92",
   "metadata": {},
   "source": [
    "A continuación cargamos los datos desde el archivo train.csv que descargamos del sitio web de NUWE:"
   ]
  },
  {
   "cell_type": "code",
   "execution_count": 2,
   "id": "00583be9",
   "metadata": {},
   "outputs": [
    {
     "data": {
      "text/html": [
       "<div>\n",
       "<style scoped>\n",
       "    .dataframe tbody tr th:only-of-type {\n",
       "        vertical-align: middle;\n",
       "    }\n",
       "\n",
       "    .dataframe tbody tr th {\n",
       "        vertical-align: top;\n",
       "    }\n",
       "\n",
       "    .dataframe thead th {\n",
       "        text-align: right;\n",
       "    }\n",
       "</style>\n",
       "<table border=\"1\" class=\"dataframe\">\n",
       "  <thead>\n",
       "    <tr style=\"text-align: right;\">\n",
       "      <th></th>\n",
       "      <th>feature1</th>\n",
       "      <th>feature2</th>\n",
       "      <th>feature3</th>\n",
       "      <th>feature4</th>\n",
       "      <th>feature5</th>\n",
       "      <th>feature6</th>\n",
       "      <th>feature7</th>\n",
       "      <th>feature8</th>\n",
       "      <th>target</th>\n",
       "    </tr>\n",
       "  </thead>\n",
       "  <tbody>\n",
       "    <tr>\n",
       "      <th>374</th>\n",
       "      <td>-3.195570</td>\n",
       "      <td>0.800716</td>\n",
       "      <td>-0.370576</td>\n",
       "      <td>0.343469</td>\n",
       "      <td>1.937200</td>\n",
       "      <td>-1.531478</td>\n",
       "      <td>-0.239130</td>\n",
       "      <td>-0.332981</td>\n",
       "      <td>2</td>\n",
       "    </tr>\n",
       "    <tr>\n",
       "      <th>1831</th>\n",
       "      <td>-0.579111</td>\n",
       "      <td>-0.108525</td>\n",
       "      <td>2.073138</td>\n",
       "      <td>0.111519</td>\n",
       "      <td>1.228051</td>\n",
       "      <td>-1.569219</td>\n",
       "      <td>-1.348844</td>\n",
       "      <td>-1.950082</td>\n",
       "      <td>2</td>\n",
       "    </tr>\n",
       "    <tr>\n",
       "      <th>1729</th>\n",
       "      <td>-0.774488</td>\n",
       "      <td>-0.274123</td>\n",
       "      <td>2.674847</td>\n",
       "      <td>-1.030168</td>\n",
       "      <td>2.620593</td>\n",
       "      <td>-3.193383</td>\n",
       "      <td>-0.655842</td>\n",
       "      <td>0.523616</td>\n",
       "      <td>2</td>\n",
       "    </tr>\n",
       "    <tr>\n",
       "      <th>1077</th>\n",
       "      <td>0.011571</td>\n",
       "      <td>0.092291</td>\n",
       "      <td>2.605229</td>\n",
       "      <td>-0.603635</td>\n",
       "      <td>1.594793</td>\n",
       "      <td>-1.841064</td>\n",
       "      <td>-0.263589</td>\n",
       "      <td>-0.188281</td>\n",
       "      <td>2</td>\n",
       "    </tr>\n",
       "    <tr>\n",
       "      <th>658</th>\n",
       "      <td>-2.207240</td>\n",
       "      <td>-1.151157</td>\n",
       "      <td>-0.767760</td>\n",
       "      <td>-0.156083</td>\n",
       "      <td>1.594157</td>\n",
       "      <td>-2.454830</td>\n",
       "      <td>1.874366</td>\n",
       "      <td>-0.268285</td>\n",
       "      <td>1</td>\n",
       "    </tr>\n",
       "    <tr>\n",
       "      <th>817</th>\n",
       "      <td>1.916851</td>\n",
       "      <td>-2.886353</td>\n",
       "      <td>-0.185550</td>\n",
       "      <td>0.898324</td>\n",
       "      <td>-2.088357</td>\n",
       "      <td>0.252065</td>\n",
       "      <td>-0.150879</td>\n",
       "      <td>0.466053</td>\n",
       "      <td>1</td>\n",
       "    </tr>\n",
       "    <tr>\n",
       "      <th>1252</th>\n",
       "      <td>-2.448060</td>\n",
       "      <td>-0.178863</td>\n",
       "      <td>-1.633241</td>\n",
       "      <td>-1.932234</td>\n",
       "      <td>2.858237</td>\n",
       "      <td>-3.017675</td>\n",
       "      <td>-0.117973</td>\n",
       "      <td>-0.335038</td>\n",
       "      <td>1</td>\n",
       "    </tr>\n",
       "    <tr>\n",
       "      <th>574</th>\n",
       "      <td>1.783167</td>\n",
       "      <td>1.372243</td>\n",
       "      <td>-1.442713</td>\n",
       "      <td>0.599314</td>\n",
       "      <td>-2.594346</td>\n",
       "      <td>3.843636</td>\n",
       "      <td>-0.781897</td>\n",
       "      <td>-0.870015</td>\n",
       "      <td>0</td>\n",
       "    </tr>\n",
       "    <tr>\n",
       "      <th>1306</th>\n",
       "      <td>-1.864162</td>\n",
       "      <td>-1.372817</td>\n",
       "      <td>-1.848298</td>\n",
       "      <td>1.837076</td>\n",
       "      <td>-0.810781</td>\n",
       "      <td>0.002618</td>\n",
       "      <td>-0.118482</td>\n",
       "      <td>0.024688</td>\n",
       "      <td>1</td>\n",
       "    </tr>\n",
       "    <tr>\n",
       "      <th>200</th>\n",
       "      <td>-0.002216</td>\n",
       "      <td>0.532996</td>\n",
       "      <td>0.312899</td>\n",
       "      <td>0.335000</td>\n",
       "      <td>-0.195581</td>\n",
       "      <td>0.541917</td>\n",
       "      <td>-0.777629</td>\n",
       "      <td>0.198376</td>\n",
       "      <td>2</td>\n",
       "    </tr>\n",
       "  </tbody>\n",
       "</table>\n",
       "</div>"
      ],
      "text/plain": [
       "      feature1  feature2  feature3  feature4  feature5  feature6  feature7  \\\n",
       "374  -3.195570  0.800716 -0.370576  0.343469  1.937200 -1.531478 -0.239130   \n",
       "1831 -0.579111 -0.108525  2.073138  0.111519  1.228051 -1.569219 -1.348844   \n",
       "1729 -0.774488 -0.274123  2.674847 -1.030168  2.620593 -3.193383 -0.655842   \n",
       "1077  0.011571  0.092291  2.605229 -0.603635  1.594793 -1.841064 -0.263589   \n",
       "658  -2.207240 -1.151157 -0.767760 -0.156083  1.594157 -2.454830  1.874366   \n",
       "817   1.916851 -2.886353 -0.185550  0.898324 -2.088357  0.252065 -0.150879   \n",
       "1252 -2.448060 -0.178863 -1.633241 -1.932234  2.858237 -3.017675 -0.117973   \n",
       "574   1.783167  1.372243 -1.442713  0.599314 -2.594346  3.843636 -0.781897   \n",
       "1306 -1.864162 -1.372817 -1.848298  1.837076 -0.810781  0.002618 -0.118482   \n",
       "200  -0.002216  0.532996  0.312899  0.335000 -0.195581  0.541917 -0.777629   \n",
       "\n",
       "      feature8  target  \n",
       "374  -0.332981       2  \n",
       "1831 -1.950082       2  \n",
       "1729  0.523616       2  \n",
       "1077 -0.188281       2  \n",
       "658  -0.268285       1  \n",
       "817   0.466053       1  \n",
       "1252 -0.335038       1  \n",
       "574  -0.870015       0  \n",
       "1306  0.024688       1  \n",
       "200   0.198376       2  "
      ]
     },
     "execution_count": 2,
     "metadata": {},
     "output_type": "execute_result"
    }
   ],
   "source": [
    "aire = pd.read_csv('train.csv', header=0, sep=';')\n",
    "aire.sample(n=10, random_state=7) # muestra aleatoria de 10 filas"
   ]
  },
  {
   "cell_type": "markdown",
   "id": "dca91024",
   "metadata": {},
   "source": [
    "### Análisis descriptivo de los datos"
   ]
  },
  {
   "cell_type": "code",
   "execution_count": 3,
   "id": "34f19718",
   "metadata": {},
   "outputs": [
    {
     "data": {
      "text/html": [
       "<div>\n",
       "<style scoped>\n",
       "    .dataframe tbody tr th:only-of-type {\n",
       "        vertical-align: middle;\n",
       "    }\n",
       "\n",
       "    .dataframe tbody tr th {\n",
       "        vertical-align: top;\n",
       "    }\n",
       "\n",
       "    .dataframe thead th {\n",
       "        text-align: right;\n",
       "    }\n",
       "</style>\n",
       "<table border=\"1\" class=\"dataframe\">\n",
       "  <thead>\n",
       "    <tr style=\"text-align: right;\">\n",
       "      <th></th>\n",
       "      <th>count</th>\n",
       "      <th>mean</th>\n",
       "      <th>std</th>\n",
       "      <th>min</th>\n",
       "      <th>25%</th>\n",
       "      <th>50%</th>\n",
       "      <th>75%</th>\n",
       "      <th>max</th>\n",
       "    </tr>\n",
       "  </thead>\n",
       "  <tbody>\n",
       "    <tr>\n",
       "      <th>feature1</th>\n",
       "      <td>2100.0</td>\n",
       "      <td>-0.318846</td>\n",
       "      <td>1.575061</td>\n",
       "      <td>-5.031501</td>\n",
       "      <td>-1.406249</td>\n",
       "      <td>-0.431219</td>\n",
       "      <td>0.773896</td>\n",
       "      <td>5.388387</td>\n",
       "    </tr>\n",
       "    <tr>\n",
       "      <th>feature2</th>\n",
       "      <td>2100.0</td>\n",
       "      <td>0.005348</td>\n",
       "      <td>1.605428</td>\n",
       "      <td>-6.004578</td>\n",
       "      <td>-1.119150</td>\n",
       "      <td>-0.162577</td>\n",
       "      <td>1.127450</td>\n",
       "      <td>7.663112</td>\n",
       "    </tr>\n",
       "    <tr>\n",
       "      <th>feature3</th>\n",
       "      <td>2100.0</td>\n",
       "      <td>-0.327567</td>\n",
       "      <td>1.479745</td>\n",
       "      <td>-5.470794</td>\n",
       "      <td>-1.368208</td>\n",
       "      <td>-0.532158</td>\n",
       "      <td>0.573801</td>\n",
       "      <td>4.869581</td>\n",
       "    </tr>\n",
       "    <tr>\n",
       "      <th>feature4</th>\n",
       "      <td>2100.0</td>\n",
       "      <td>0.024042</td>\n",
       "      <td>1.548154</td>\n",
       "      <td>-5.296172</td>\n",
       "      <td>-1.083716</td>\n",
       "      <td>0.152545</td>\n",
       "      <td>1.173172</td>\n",
       "      <td>4.318758</td>\n",
       "    </tr>\n",
       "    <tr>\n",
       "      <th>feature5</th>\n",
       "      <td>2100.0</td>\n",
       "      <td>0.085851</td>\n",
       "      <td>1.788543</td>\n",
       "      <td>-5.719499</td>\n",
       "      <td>-1.136441</td>\n",
       "      <td>0.102788</td>\n",
       "      <td>1.507492</td>\n",
       "      <td>6.033273</td>\n",
       "    </tr>\n",
       "    <tr>\n",
       "      <th>feature6</th>\n",
       "      <td>2100.0</td>\n",
       "      <td>-0.065000</td>\n",
       "      <td>2.124337</td>\n",
       "      <td>-4.910575</td>\n",
       "      <td>-1.613267</td>\n",
       "      <td>-0.431328</td>\n",
       "      <td>1.162813</td>\n",
       "      <td>7.053420</td>\n",
       "    </tr>\n",
       "    <tr>\n",
       "      <th>feature7</th>\n",
       "      <td>2100.0</td>\n",
       "      <td>-0.025603</td>\n",
       "      <td>1.015619</td>\n",
       "      <td>-3.850552</td>\n",
       "      <td>-0.701442</td>\n",
       "      <td>-0.007598</td>\n",
       "      <td>0.665932</td>\n",
       "      <td>4.400697</td>\n",
       "    </tr>\n",
       "    <tr>\n",
       "      <th>feature8</th>\n",
       "      <td>2100.0</td>\n",
       "      <td>-0.004437</td>\n",
       "      <td>1.003342</td>\n",
       "      <td>-3.541608</td>\n",
       "      <td>-0.659096</td>\n",
       "      <td>-0.019797</td>\n",
       "      <td>0.667530</td>\n",
       "      <td>3.579874</td>\n",
       "    </tr>\n",
       "    <tr>\n",
       "      <th>target</th>\n",
       "      <td>2100.0</td>\n",
       "      <td>0.985238</td>\n",
       "      <td>0.815098</td>\n",
       "      <td>0.000000</td>\n",
       "      <td>0.000000</td>\n",
       "      <td>1.000000</td>\n",
       "      <td>2.000000</td>\n",
       "      <td>2.000000</td>\n",
       "    </tr>\n",
       "  </tbody>\n",
       "</table>\n",
       "</div>"
      ],
      "text/plain": [
       "           count      mean       std       min       25%       50%       75%  \\\n",
       "feature1  2100.0 -0.318846  1.575061 -5.031501 -1.406249 -0.431219  0.773896   \n",
       "feature2  2100.0  0.005348  1.605428 -6.004578 -1.119150 -0.162577  1.127450   \n",
       "feature3  2100.0 -0.327567  1.479745 -5.470794 -1.368208 -0.532158  0.573801   \n",
       "feature4  2100.0  0.024042  1.548154 -5.296172 -1.083716  0.152545  1.173172   \n",
       "feature5  2100.0  0.085851  1.788543 -5.719499 -1.136441  0.102788  1.507492   \n",
       "feature6  2100.0 -0.065000  2.124337 -4.910575 -1.613267 -0.431328  1.162813   \n",
       "feature7  2100.0 -0.025603  1.015619 -3.850552 -0.701442 -0.007598  0.665932   \n",
       "feature8  2100.0 -0.004437  1.003342 -3.541608 -0.659096 -0.019797  0.667530   \n",
       "target    2100.0  0.985238  0.815098  0.000000  0.000000  1.000000  2.000000   \n",
       "\n",
       "               max  \n",
       "feature1  5.388387  \n",
       "feature2  7.663112  \n",
       "feature3  4.869581  \n",
       "feature4  4.318758  \n",
       "feature5  6.033273  \n",
       "feature6  7.053420  \n",
       "feature7  4.400697  \n",
       "feature8  3.579874  \n",
       "target    2.000000  "
      ]
     },
     "execution_count": 3,
     "metadata": {},
     "output_type": "execute_result"
    }
   ],
   "source": [
    "aire.describe().T"
   ]
  },
  {
   "cell_type": "code",
   "execution_count": 4,
   "id": "1f827c23",
   "metadata": {},
   "outputs": [
    {
     "name": "stdout",
     "output_type": "stream",
     "text": [
      "<class 'pandas.core.frame.DataFrame'>\n",
      "RangeIndex: 2100 entries, 0 to 2099\n",
      "Data columns (total 9 columns):\n",
      " #   Column    Non-Null Count  Dtype  \n",
      "---  ------    --------------  -----  \n",
      " 0   feature1  2100 non-null   float64\n",
      " 1   feature2  2100 non-null   float64\n",
      " 2   feature3  2100 non-null   float64\n",
      " 3   feature4  2100 non-null   float64\n",
      " 4   feature5  2100 non-null   float64\n",
      " 5   feature6  2100 non-null   float64\n",
      " 6   feature7  2100 non-null   float64\n",
      " 7   feature8  2100 non-null   float64\n",
      " 8   target    2100 non-null   int64  \n",
      "dtypes: float64(8), int64(1)\n",
      "memory usage: 147.8 KB\n"
     ]
    }
   ],
   "source": [
    "aire.info()"
   ]
  },
  {
   "cell_type": "code",
   "execution_count": 5,
   "id": "d1e1021b",
   "metadata": {},
   "outputs": [
    {
     "name": "stdout",
     "output_type": "stream",
     "text": [
      "Numero de NaNs: 0\n"
     ]
    }
   ],
   "source": [
    "print(f'Numero de NaNs: {aire.isnull().sum().sum()}')"
   ]
  },
  {
   "cell_type": "code",
   "execution_count": 6,
   "id": "7784b5d8",
   "metadata": {},
   "outputs": [
    {
     "name": "stdout",
     "output_type": "stream",
     "text": [
      "Numero de filas duplicadas: 0\n"
     ]
    }
   ],
   "source": [
    "print(f'Numero de filas duplicadas: {aire.duplicated().sum()}')"
   ]
  },
  {
   "cell_type": "markdown",
   "id": "43057502",
   "metadata": {},
   "source": [
    "Hay 8 variables numéricas  independientes o features que corresponden a las lecturas de cada sensor, y una variable dependiente o target que clasifica la calidad del aire en función de estas lecturas.\n",
    "\n",
    "Los valores de los features estan en la misma escala, en el rango (-7; 8) aprox por lo que no haría falta escalar. Tienen media y desvio estandar similares.\n",
    "\n",
    "Los datos parecen estar bastante \"limpios y ordenados\", no hay NaN's ni filas duplicadas en las 2100 filas que tiene el dataset.\n",
    "\n",
    "Con respecto a la variable target:"
   ]
  },
  {
   "cell_type": "code",
   "execution_count": 7,
   "id": "13b21aa0",
   "metadata": {},
   "outputs": [
    {
     "data": {
      "image/png": "[encoded data removed]",
      "text/plain": [
       "<Figure size 720x360 with 1 Axes>"
      ]
     },
     "metadata": {},
     "output_type": "display_data"
    }
   ],
   "source": [
    "plt.figure(figsize = (10,5))\n",
    "ax = sns.countplot(data=aire, x='target', order=aire.target.value_counts().index)\n",
    "for p in ax.patches:\n",
    "        percentage = '{:.1f}%'.format(100 * p.get_height()/len(aire))\n",
    "        x = p.get_x() + p.get_width() / 2 - 0.05\n",
    "        y = p.get_y() + p.get_height()\n",
    "        plt.annotate(percentage, (x, y),ha='center')\n",
    "plt.show()"
   ]
  },
  {
   "cell_type": "code",
   "execution_count": 8,
   "id": "af81030a",
   "metadata": {},
   "outputs": [
    {
     "data": {
      "text/plain": [
       "0    33.952381\n",
       "1    33.571429\n",
       "2    32.476190\n",
       "Name: target, dtype: float64"
      ]
     },
     "execution_count": 8,
     "metadata": {},
     "output_type": "execute_result"
    }
   ],
   "source": [
    "aire.target.value_counts()*100/aire.target.value_counts().sum()"
   ]
  },
  {
   "cell_type": "markdown",
   "id": "86d8d145",
   "metadata": {},
   "source": [
    "La variable target esta equilibrada entre las distintas clases, tenemos un ~20% de cada uno de los casos.\n",
    "\n",
    "Separaremos en un dataframe la variable target del resto de los features y analizaremos como se comportan unos y otros:"
   ]
  },
  {
   "cell_type": "code",
   "execution_count": 9,
   "id": "2339f333",
   "metadata": {},
   "outputs": [],
   "source": [
    "x = aire.drop(['target'], axis='columns')\n",
    "y = pd.DataFrame(aire.target)"
   ]
  },
  {
   "cell_type": "code",
   "execution_count": 10,
   "id": "1d1806dd",
   "metadata": {},
   "outputs": [
    {
     "data": {
      "image/png": "[encoded data removed]",
      "text/plain": [
       "<Figure size 864x720 with 9 Axes>"
      ]
     },
     "metadata": {},
     "output_type": "display_data"
    }
   ],
   "source": [
    "x.hist(bins=40, figsize=(12, 10))\n",
    "plt.show()"
   ]
  },
  {
   "cell_type": "markdown",
   "id": "21a4fb57",
   "metadata": {},
   "source": [
    "Como habiamos dicho previamente, las variables independientes tienen su valor medio en 0 y parecen seguir una distribución normal."
   ]
  },
  {
   "cell_type": "code",
   "execution_count": 11,
   "id": "b78c86aa",
   "metadata": {},
   "outputs": [
    {
     "data": {
      "image/png": "[encoded data removed]",
      "text/plain": [
       "<Figure size 864x720 with 1 Axes>"
      ]
     },
     "metadata": {},
     "output_type": "display_data"
    }
   ],
   "source": [
    "plt.figure(figsize = (12,10))\n",
    "x.boxplot()\n",
    "plt.show()"
   ]
  },
  {
   "cell_type": "markdown",
   "id": "a9bd5058",
   "metadata": {},
   "source": [
    "No parece que haya un problema de outliers o valores atipicos ya que interpreto que son valores posibles de lectura de los sensores (true outliers)."
   ]
  },
  {
   "cell_type": "markdown",
   "id": "81f87fb1",
   "metadata": {},
   "source": [
    "Veamos a continuación como se correlacionan las variables entre si:"
   ]
  },
  {
   "cell_type": "code",
   "execution_count": 12,
   "id": "e3ecdc57",
   "metadata": {},
   "outputs": [
    {
     "data": {
      "image/png": "[encoded data removed]",
      "text/plain": [
       "<Figure size 864x648 with 2 Axes>"
      ]
     },
     "metadata": {},
     "output_type": "display_data"
    }
   ],
   "source": [
    "aire_corr = aire.corr()\n",
    "\n",
    "mask = np.triu(np.ones_like(aire_corr, dtype = bool)) # mask the upper triangle, easier to read\n",
    "fig, ax = plt.subplots(figsize = (12, 9))\n",
    "\n",
    "sns.heatmap(aire_corr, mask = mask, cmap = 'flare', annot = True, annot_kws = {\"size\": 10})\n",
    "\n",
    "for t in ax.texts:\n",
    "    if float(t.get_text()) >= 0.25: # if the value is greater than 0.1 then I set the text \n",
    "        t.set_text(t.get_text()) \n",
    "    elif float(t.get_text()) <= -0.25: # if the value is smaller than -0.1 then I set the text \n",
    "        t.set_text(t.get_text())\n",
    "    else:\n",
    "        t.set_text(\"\") # if not it sets an empty text\n",
    "\n",
    "plt.title('Matriz de Correlación', fontsize = 20)\n",
    "plt.show()"
   ]
  },
  {
   "cell_type": "markdown",
   "id": "d35bdd26",
   "metadata": {},
   "source": [
    "Vemos que hay buena correlación entre feature excepto para el 7 y el 8."
   ]
  },
  {
   "cell_type": "markdown",
   "id": "1000247f",
   "metadata": {},
   "source": [
    "### Modelizado de los datos"
   ]
  },
  {
   "cell_type": "markdown",
   "id": "382f5041",
   "metadata": {},
   "source": [
    "Primero dividimos la muestra entre datos para entrenamiento y datos para evaluación y obtención de metricas de performance del modelo:"
   ]
  },
  {
   "cell_type": "code",
   "execution_count": 13,
   "id": "9aa06953",
   "metadata": {},
   "outputs": [],
   "source": [
    "from sklearn.model_selection import train_test_split\n",
    "\n",
    "x_train, x_test, y_train, y_test = train_test_split(x, y, test_size=0.25, random_state=7)  # 80%-20% proportion"
   ]
  },
  {
   "cell_type": "code",
   "execution_count": 14,
   "id": "1aa8332e",
   "metadata": {},
   "outputs": [
    {
     "data": {
      "text/plain": [
       "((1575, 8), (525, 8), (1575, 1), (525, 1))"
      ]
     },
     "execution_count": 14,
     "metadata": {},
     "output_type": "execute_result"
    }
   ],
   "source": [
    "x_train.shape, x_test.shape, y_train.shape, y_test.shape"
   ]
  },
  {
   "cell_type": "markdown",
   "id": "2bd09c86",
   "metadata": {},
   "source": [
    "Utilizamos el algoritmo de Random Forest Classifier para multiclases con los parametros por defecto:"
   ]
  },
  {
   "cell_type": "code",
   "execution_count": 15,
   "id": "7247f440",
   "metadata": {},
   "outputs": [],
   "source": [
    "from sklearn.ensemble import RandomForestClassifier\n",
    "\n",
    "#instantiate RandomForestClassifier()\n",
    "model = RandomForestClassifier(random_state=7)\n",
    "\n",
    "\n",
    "#fit the classification\n",
    "model.fit(x_train, np.ravel(y_train))\n",
    "\n",
    "#Predict on test\n",
    "y_pred = model.predict(x_test)"
   ]
  },
  {
   "cell_type": "markdown",
   "id": "7f899c3b",
   "metadata": {},
   "source": [
    "Matriz de confusión"
   ]
  },
  {
   "cell_type": "code",
   "execution_count": 16,
   "id": "92070cb1",
   "metadata": {},
   "outputs": [
    {
     "data": {
      "image/png": "[encoded data removed]",
      "text/plain": [
       "<Figure size 720x576 with 2 Axes>"
      ]
     },
     "metadata": {},
     "output_type": "display_data"
    }
   ],
   "source": [
    "from sklearn.metrics import ConfusionMatrixDisplay, confusion_matrix\n",
    "\n",
    "# Plot the confusion matrix\n",
    "fig, ax = plt.subplots(figsize=(10, 8))\n",
    "# Create the matrix\n",
    "cm = confusion_matrix(y_test, y_pred)\n",
    "cmp = ConfusionMatrixDisplay(cm)\n",
    "cmp.plot(ax=ax)\n",
    "\n",
    "plt.show()"
   ]
  },
  {
   "cell_type": "code",
   "execution_count": 17,
   "id": "33212cf1",
   "metadata": {},
   "outputs": [
    {
     "name": "stdout",
     "output_type": "stream",
     "text": [
      "              precision    recall  f1-score   support\n",
      "\n",
      "           0       0.90      0.86      0.88       182\n",
      "           1       0.87      0.93      0.90       170\n",
      "           2       0.89      0.87      0.88       173\n",
      "\n",
      "    accuracy                           0.89       525\n",
      "   macro avg       0.89      0.89      0.89       525\n",
      "weighted avg       0.89      0.89      0.89       525\n",
      "\n"
     ]
    }
   ],
   "source": [
    "from sklearn.metrics import accuracy_score,f1_score,classification_report\n",
    "\n",
    "print(classification_report(y_test,y_pred))"
   ]
  },
  {
   "cell_type": "code",
   "execution_count": 18,
   "id": "9a3d316e",
   "metadata": {},
   "outputs": [
    {
     "data": {
      "text/plain": [
       "0.89"
      ]
     },
     "execution_count": 18,
     "metadata": {},
     "output_type": "execute_result"
    }
   ],
   "source": [
    "round(f1_score(y_test, y_pred, average='macro'),2)"
   ]
  },
  {
   "cell_type": "markdown",
   "id": "499af401",
   "metadata": {},
   "source": [
    "El modelo arroja un f1_score (macro) de 0,89 lo cual no esta mal. Veremos si podemos obtener mejores metricas ajustando los parámetros:"
   ]
  },
  {
   "cell_type": "code",
   "execution_count": 19,
   "id": "9ace6d5e",
   "metadata": {},
   "outputs": [],
   "source": [
    "from sklearn.metrics import f1_score, make_scorer\n",
    "\n",
    "f1 = make_scorer(f1_score , average='macro') # metrica a optimizar"
   ]
  },
  {
   "cell_type": "code",
   "execution_count": 39,
   "id": "50236337",
   "metadata": {
    "scrolled": true
   },
   "outputs": [
    {
     "data": {
      "text/html": [
       "<style>#sk-container-id-2 {color: black;background-color: white;}#sk-container-id-2 pre{padding: 0;}#sk-container-id-2 div.sk-toggleable {background-color: white;}#sk-container-id-2 label.sk-toggleable__label {cursor: pointer;display: block;width: 100%;margin-bottom: 0;padding: 0.3em;box-sizing: border-box;text-align: center;}#sk-container-id-2 label.sk-toggleable__label-arrow:before {content: \"▸\";float: left;margin-right: 0.25em;color: #696969;}#sk-container-id-2 label.sk-toggleable__label-arrow:hover:before {color: black;}#sk-container-id-2 div.sk-estimator:hover label.sk-toggleable__label-arrow:before {color: black;}#sk-container-id-2 div.sk-toggleable__content {max-height: 0;max-width: 0;overflow: hidden;text-align: left;background-color: #f0f8ff;}#sk-container-id-2 div.sk-toggleable__content pre {margin: 0.2em;color: black;border-radius: 0.25em;background-color: #f0f8ff;}#sk-container-id-2 input.sk-toggleable__control:checked~div.sk-toggleable__content {max-height: 200px;max-width: 100%;overflow: auto;}#sk-container-id-2 input.sk-toggleable__control:checked~label.sk-toggleable__label-arrow:before {content: \"▾\";}#sk-container-id-2 div.sk-estimator input.sk-toggleable__control:checked~label.sk-toggleable__label {background-color: #d4ebff;}#sk-container-id-2 div.sk-label input.sk-toggleable__control:checked~label.sk-toggleable__label {background-color: #d4ebff;}#sk-container-id-2 input.sk-hidden--visually {border: 0;clip: rect(1px 1px 1px 1px);clip: rect(1px, 1px, 1px, 1px);height: 1px;margin: -1px;overflow: hidden;padding: 0;position: absolute;width: 1px;}#sk-container-id-2 div.sk-estimator {font-family: monospace;background-color: #f0f8ff;border: 1px dotted black;border-radius: 0.25em;box-sizing: border-box;margin-bottom: 0.5em;}#sk-container-id-2 div.sk-estimator:hover {background-color: #d4ebff;}#sk-container-id-2 div.sk-parallel-item::after {content: \"\";width: 100%;border-bottom: 1px solid gray;flex-grow: 1;}#sk-container-id-2 div.sk-label:hover label.sk-toggleable__label {background-color: #d4ebff;}#sk-container-id-2 div.sk-serial::before {content: \"\";position: absolute;border-left: 1px solid gray;box-sizing: border-box;top: 0;bottom: 0;left: 50%;z-index: 0;}#sk-container-id-2 div.sk-serial {display: flex;flex-direction: column;align-items: center;background-color: white;padding-right: 0.2em;padding-left: 0.2em;position: relative;}#sk-container-id-2 div.sk-item {position: relative;z-index: 1;}#sk-container-id-2 div.sk-parallel {display: flex;align-items: stretch;justify-content: center;background-color: white;position: relative;}#sk-container-id-2 div.sk-item::before, #sk-container-id-2 div.sk-parallel-item::before {content: \"\";position: absolute;border-left: 1px solid gray;box-sizing: border-box;top: 0;bottom: 0;left: 50%;z-index: -1;}#sk-container-id-2 div.sk-parallel-item {display: flex;flex-direction: column;z-index: 1;position: relative;background-color: white;}#sk-container-id-2 div.sk-parallel-item:first-child::after {align-self: flex-end;width: 50%;}#sk-container-id-2 div.sk-parallel-item:last-child::after {align-self: flex-start;width: 50%;}#sk-container-id-2 div.sk-parallel-item:only-child::after {width: 0;}#sk-container-id-2 div.sk-dashed-wrapped {border: 1px dashed gray;margin: 0 0.4em 0.5em 0.4em;box-sizing: border-box;padding-bottom: 0.4em;background-color: white;}#sk-container-id-2 div.sk-label label {font-family: monospace;font-weight: bold;display: inline-block;line-height: 1.2em;}#sk-container-id-2 div.sk-label-container {text-align: center;}#sk-container-id-2 div.sk-container {/* jupyter's `normalize.less` sets `[hidden] { display: none; }` but bootstrap.min.css set `[hidden] { display: none !important; }` so we also need the `!important` here to be able to override the default hidden behavior on the sphinx rendered scikit-learn.org. See: https://github.com/scikit-learn/scikit-learn/issues/21755 */display: inline-block !important;position: relative;}#sk-container-id-2 div.sk-text-repr-fallback {display: none;}</style><div id=\"sk-container-id-2\" class=\"sk-top-container\"><div class=\"sk-text-repr-fallback\"><pre>GridSearchCV(cv=5, estimator=RandomForestClassifier(random_state=7),\n",
       "             param_grid={&#x27;bootstrap&#x27;: [True, False],\n",
       "                         &#x27;criterion&#x27;: [&#x27;entropy&#x27;, &#x27;gini&#x27;],\n",
       "                         &#x27;max_depth&#x27;: [None, 10, 30],\n",
       "                         &#x27;min_samples_leaf&#x27;: [1, 10, 20],\n",
       "                         &#x27;min_samples_split&#x27;: [2, 5, 10],\n",
       "                         &#x27;n_estimators&#x27;: [100, 300, 500]},\n",
       "             scoring=make_scorer(f1_score, average=macro))</pre><b>In a Jupyter environment, please rerun this cell to show the HTML representation or trust the notebook. <br />On GitHub, the HTML representation is unable to render, please try loading this page with nbviewer.org.</b></div><div class=\"sk-container\" hidden><div class=\"sk-item sk-dashed-wrapped\"><div class=\"sk-label-container\"><div class=\"sk-label sk-toggleable\"><input class=\"sk-toggleable__control sk-hidden--visually\" id=\"sk-estimator-id-4\" type=\"checkbox\" ><label for=\"sk-estimator-id-4\" class=\"sk-toggleable__label sk-toggleable__label-arrow\">GridSearchCV</label><div class=\"sk-toggleable__content\"><pre>GridSearchCV(cv=5, estimator=RandomForestClassifier(random_state=7),\n",
       "             param_grid={&#x27;bootstrap&#x27;: [True, False],\n",
       "                         &#x27;criterion&#x27;: [&#x27;entropy&#x27;, &#x27;gini&#x27;],\n",
       "                         &#x27;max_depth&#x27;: [None, 10, 30],\n",
       "                         &#x27;min_samples_leaf&#x27;: [1, 10, 20],\n",
       "                         &#x27;min_samples_split&#x27;: [2, 5, 10],\n",
       "                         &#x27;n_estimators&#x27;: [100, 300, 500]},\n",
       "             scoring=make_scorer(f1_score, average=macro))</pre></div></div></div><div class=\"sk-parallel\"><div class=\"sk-parallel-item\"><div class=\"sk-item\"><div class=\"sk-label-container\"><div class=\"sk-label sk-toggleable\"><input class=\"sk-toggleable__control sk-hidden--visually\" id=\"sk-estimator-id-5\" type=\"checkbox\" ><label for=\"sk-estimator-id-5\" class=\"sk-toggleable__label sk-toggleable__label-arrow\">estimator: RandomForestClassifier</label><div class=\"sk-toggleable__content\"><pre>RandomForestClassifier(random_state=7)</pre></div></div></div><div class=\"sk-serial\"><div class=\"sk-item\"><div class=\"sk-estimator sk-toggleable\"><input class=\"sk-toggleable__control sk-hidden--visually\" id=\"sk-estimator-id-6\" type=\"checkbox\" ><label for=\"sk-estimator-id-6\" class=\"sk-toggleable__label sk-toggleable__label-arrow\">RandomForestClassifier</label><div class=\"sk-toggleable__content\"><pre>RandomForestClassifier(random_state=7)</pre></div></div></div></div></div></div></div></div></div></div>"
      ],
      "text/plain": [
       "GridSearchCV(cv=5, estimator=RandomForestClassifier(random_state=7),\n",
       "             param_grid={'bootstrap': [True, False],\n",
       "                         'criterion': ['entropy', 'gini'],\n",
       "                         'max_depth': [None, 10, 30],\n",
       "                         'min_samples_leaf': [1, 10, 20],\n",
       "                         'min_samples_split': [2, 5, 10],\n",
       "                         'n_estimators': [100, 300, 500]},\n",
       "             scoring=make_scorer(f1_score, average=macro))"
      ]
     },
     "execution_count": 39,
     "metadata": {},
     "output_type": "execute_result"
    }
   ],
   "source": [
    "from sklearn.model_selection import GridSearchCV\n",
    "\n",
    "# Parameters combination (Random Forest)\n",
    "parameters = {\"n_estimators\": [100, 300, 500], \"min_samples_leaf\": [1, 10, 20], 'max_depth': [None, 10, 30], \n",
    "              \"min_samples_split\": [2, 5, 10], \"criterion\":[\"entropy\",\"gini\"], \"bootstrap\": [True, False]}\n",
    "\n",
    "# create and instantiate grid search\n",
    "grid = GridSearchCV(model, parameters, cv=5, scoring=f1) # 5 splits cross validation\n",
    "\n",
    "#fit the model\n",
    "grid.fit(x_train, np.ravel(y_train))"
   ]
  },
  {
   "cell_type": "code",
   "execution_count": 40,
   "id": "beb02929",
   "metadata": {
    "scrolled": true
   },
   "outputs": [
    {
     "name": "stdout",
     "output_type": "stream",
     "text": [
      "Best parameters combination: {'bootstrap': False, 'criterion': 'entropy', 'max_depth': 10, 'min_samples_leaf': 1, 'min_samples_split': 5, 'n_estimators': 100}\n"
     ]
    }
   ],
   "source": [
    "print(f'Best parameters combination: {grid.best_params_}')"
   ]
  },
  {
   "cell_type": "code",
   "execution_count": 41,
   "id": "74940803",
   "metadata": {},
   "outputs": [],
   "source": [
    "#instantiate RandomForestClassifier()\n",
    "model2 = RandomForestClassifier(n_estimators=100, max_depth=10, min_samples_leaf=1, min_samples_split=5, \n",
    "                                bootstrap=False, criterion='entropy')\n",
    "\n",
    "#fit the classification\n",
    "model2.fit(x_train, np.ravel(y_train))\n",
    "\n",
    "#Predict on test\n",
    "y_pred2 = model2.predict(x_test)"
   ]
  },
  {
   "cell_type": "code",
   "execution_count": 42,
   "id": "fb16fc23",
   "metadata": {},
   "outputs": [
    {
     "name": "stdout",
     "output_type": "stream",
     "text": [
      "              precision    recall  f1-score   support\n",
      "\n",
      "           0       0.91      0.86      0.88       182\n",
      "           1       0.87      0.93      0.90       170\n",
      "           2       0.87      0.86      0.86       173\n",
      "\n",
      "    accuracy                           0.88       525\n",
      "   macro avg       0.88      0.88      0.88       525\n",
      "weighted avg       0.88      0.88      0.88       525\n",
      "\n"
     ]
    }
   ],
   "source": [
    "print(classification_report(y_test,y_pred2))"
   ]
  },
  {
   "cell_type": "code",
   "execution_count": 43,
   "id": "8c4ed53c",
   "metadata": {},
   "outputs": [
    {
     "data": {
      "text/plain": [
       "0.88"
      ]
     },
     "execution_count": 43,
     "metadata": {},
     "output_type": "execute_result"
    }
   ],
   "source": [
    "round(f1_score(y_test, y_pred2, average='macro'),2)"
   ]
  },
  {
   "cell_type": "markdown",
   "id": "54540164",
   "metadata": {},
   "source": [
    "Hemos obtenido 0,88 en el f1_score por lo tanto el ajuste de parametros ha reportado un leve retroceso.\n",
    "\n",
    "Hare una prueba ahora aplicando algunas tecnicas de ingeniería de variables:"
   ]
  },
  {
   "cell_type": "code",
   "execution_count": 44,
   "id": "3b14cf1a",
   "metadata": {},
   "outputs": [],
   "source": [
    "aire1 = aire # hago una copia para no modificar el dataframe original"
   ]
  },
  {
   "cell_type": "markdown",
   "id": "87c9bef3",
   "metadata": {},
   "source": [
    "Eliminamos los outliers:"
   ]
  },
  {
   "cell_type": "code",
   "execution_count": 45,
   "id": "50c007b1",
   "metadata": {},
   "outputs": [],
   "source": [
    "from collections import Counter\n",
    "\n",
    "#drop the label \n",
    "outlier_list = ['feature1', 'feature2', 'feature3', 'feature4', 'feature5', 'feature6', 'feature7', 'feature8'] \n",
    "\n",
    "def detect_outlier(df,feature):\n",
    "    \n",
    "    outlier_indices = []\n",
    "    \n",
    "    for f in feature:\n",
    "        \n",
    "        #lower quartile\n",
    "        q1 = np.percentile(df[f],25)\n",
    "        \n",
    "        #upper quartile\n",
    "        q3 = np.percentile(df[f],75)\n",
    "        \n",
    "        #interquartile range\n",
    "        iqr = q3-q1\n",
    "        \n",
    "        #with coefficient\n",
    "        with_coef = 1.5*iqr\n",
    "        \n",
    "        #detect outlier(s)\n",
    "        lower_rule = q1-with_coef\n",
    "        upper_rule = q3+with_coef\n",
    "        \n",
    "        outlier_variable = df[(df[f]<lower_rule) | (df[f]>upper_rule)].index\n",
    "        outlier_indices.extend(outlier_variable)\n",
    "    \n",
    "    #converting to amount\n",
    "    outlier_indices = Counter(outlier_indices)\n",
    "    multiple_outliers = list(i for i,v in outlier_indices.items() if v>2)\n",
    "    \n",
    "    return multiple_outliers\n",
    "\n",
    " \n",
    "#drop outliers\n",
    "aire1 = aire1.drop(detect_outlier(aire1, outlier_list), axis=0).reset_index(drop=True)"
   ]
  },
  {
   "cell_type": "code",
   "execution_count": 46,
   "id": "9e3d79c5",
   "metadata": {},
   "outputs": [
    {
     "data": {
      "text/plain": [
       "(2097, 9)"
      ]
     },
     "execution_count": 46,
     "metadata": {},
     "output_type": "execute_result"
    }
   ],
   "source": [
    "aire1.shape"
   ]
  },
  {
   "cell_type": "markdown",
   "id": "da209aba",
   "metadata": {},
   "source": [
    "Solo se han eliminado 3 filas. Ahora normalizaremos las variables y luego haremos relaciones polinomicas:"
   ]
  },
  {
   "cell_type": "code",
   "execution_count": 48,
   "id": "957377e6",
   "metadata": {},
   "outputs": [],
   "source": [
    "x1 = aire1.drop(['target'], axis='columns')\n",
    "y1 = pd.DataFrame(aire1.target)"
   ]
  },
  {
   "cell_type": "code",
   "execution_count": 49,
   "id": "bff49861",
   "metadata": {},
   "outputs": [
    {
     "data": {
      "text/plain": [
       "(2097, 495)"
      ]
     },
     "execution_count": 49,
     "metadata": {},
     "output_type": "execute_result"
    }
   ],
   "source": [
    "from sklearn.preprocessing import PolynomialFeatures\n",
    "\n",
    "poly = PolynomialFeatures(degree=4)\n",
    "x1 = poly.fit_transform(x1)\n",
    "x1 = pd.DataFrame(data=x1)\n",
    "\n",
    "x1.shape"
   ]
  },
  {
   "cell_type": "code",
   "execution_count": 50,
   "id": "c95a3a5f",
   "metadata": {},
   "outputs": [],
   "source": [
    "from sklearn.preprocessing import MinMaxScaler\n",
    "\n",
    "x1= pd.DataFrame(MinMaxScaler().fit_transform(x1))"
   ]
  },
  {
   "cell_type": "code",
   "execution_count": null,
   "id": "85003d17",
   "metadata": {},
   "outputs": [],
   "source": [
    "# from sklearn.decomposition import PCA\n",
    "\n",
    "# pca = PCA(.95) #95% of the variance is retained\n",
    "# x1 = pca.fit_transform(x1)\n",
    "# x1 = pd.DataFrame(data=x1)"
   ]
  },
  {
   "cell_type": "code",
   "execution_count": null,
   "id": "e39e3d47",
   "metadata": {},
   "outputs": [],
   "source": [
    "# pca_expl = pca.explained_variance_ratio_.round(3) # how much variance exlains each PCA column\n",
    "# pca_expl"
   ]
  },
  {
   "cell_type": "code",
   "execution_count": 51,
   "id": "efd92d7f",
   "metadata": {},
   "outputs": [],
   "source": [
    "x_train1, x_test1, y_train1, y_test1 = train_test_split(x1, y1, test_size=0.25, random_state=7)"
   ]
  },
  {
   "cell_type": "code",
   "execution_count": 52,
   "id": "1c50e573",
   "metadata": {},
   "outputs": [],
   "source": [
    "#instantiate RandomForestClassifier()\n",
    "model3 = RandomForestClassifier(n_estimators=100, max_depth=10, min_samples_leaf=1, min_samples_split=5, \n",
    "                                bootstrap=False, criterion='entropy')\n",
    "\n",
    "#fit the classification\n",
    "model3.fit(x_train1, np.ravel(y_train1))\n",
    "\n",
    "#Predict on test\n",
    "y_pred3 = model3.predict(x_test1)"
   ]
  },
  {
   "cell_type": "code",
   "execution_count": 53,
   "id": "4815ca03",
   "metadata": {},
   "outputs": [
    {
     "data": {
      "text/plain": [
       "0.88"
      ]
     },
     "execution_count": 53,
     "metadata": {},
     "output_type": "execute_result"
    }
   ],
   "source": [
    "round(f1_score(y_test1, y_pred3, average='macro'),2)"
   ]
  },
  {
   "cell_type": "markdown",
   "id": "f5b13762",
   "metadata": {},
   "source": [
    "Luego de probar con diferentes técnicas de ingenieria de variables (feature engineer) no se consigue aumentar el f1_score.\n",
    "\n",
    "Finalmente haremos la clasificación de los datos presentes en el archivo \"test.cvs\" y la guardaremos en el archivo predicted.csv y predicted.json:"
   ]
  },
  {
   "cell_type": "code",
   "execution_count": 54,
   "id": "b7236ae2",
   "metadata": {},
   "outputs": [],
   "source": [
    "aire_predict = pd.read_csv('test.csv', header=0, sep=';')"
   ]
  },
  {
   "cell_type": "code",
   "execution_count": 55,
   "id": "12a8c72e",
   "metadata": {},
   "outputs": [],
   "source": [
    "aire_predict_pred = model.predict(aire_predict)"
   ]
  },
  {
   "cell_type": "code",
   "execution_count": 56,
   "id": "3cf53b0d",
   "metadata": {
    "scrolled": true
   },
   "outputs": [],
   "source": [
    "pd.DataFrame(aire_predict_pred, columns=['predicted']).to_json(\"predictions.json\", orient='columns')\n",
    "pd.DataFrame(aire_predict_pred, columns=['predicted']).to_csv(\"predictions.csv\", index=False)"
   ]
  }
 ],
 "metadata": {
  "kernelspec": {
   "display_name": "Python 3 (ipykernel)",
   "language": "python",
   "name": "python3"
  },
  "language_info": {
   "codemirror_mode": {
    "name": "ipython",
    "version": 3
   },
   "file_extension": ".py",
   "mimetype": "text/x-python",
   "name": "python",
   "nbconvert_exporter": "python",
   "pygments_lexer": "ipython3",
   "version": "3.9.12"
  }
 },
 "nbformat": 4,
 "nbformat_minor": 5
}
